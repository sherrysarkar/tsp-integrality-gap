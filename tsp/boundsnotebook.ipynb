{
 "cells": [
  {
   "cell_type": "code",
   "execution_count": 24,
   "metadata": {},
   "outputs": [],
   "source": [
    "from scipy.optimize import linprog\n",
    "import numpy as np\n",
    "\n",
    "###seeing if git works "
   ]
  },
  {
   "cell_type": "markdown",
   "metadata": {},
   "source": [
    "## Matroid Intersection Method for k = 2. "
   ]
  },
  {
   "cell_type": "code",
   "execution_count": 6,
   "metadata": {},
   "outputs": [],
   "source": [
    "obj = [0, 0, 0, -1] # beta, tau, gamma, z\n",
    "\n",
    "lhs_ineq = [[0.0, -5/252, 0.0, 1.0],\n",
    "            [1/72, -1/21, 0.0, 1.0],\n",
    "            [0.0, -1/21, 1/36, 1.0],\n",
    "            [0.0, 1/54, -1/18, 1.0], \n",
    "            [0.0, 0.0, -1/27, 1.0],\n",
    "            [1/54, 0.0, -1/18, 1.0], \n",
    "            [-1/72, 0.0, 0.0, 1.0], \n",
    "            [-1/24, 5/72, 0.0, 1.0],\n",
    "            [-1/24, 0.0, 5/72, 1.0], \n",
    "            [-1/18, 1/9, 0.0, 1.0], \n",
    "            [-1.0, 1.0, 0.0, 0.0], \n",
    "            [1.0, 0.0, 0.0, 0.0],\n",
    "            [-0.5, 1.0, 0.0, 0.0],\n",
    "            [-0.5, 0.0, 1.0, 0.0],\n",
    "            [0.0, -1/36, 0.0, 1.0],\n",
    "            [-1/36, 0.0, 0.0, 1.0]]\n",
    "\n",
    "\n",
    "rhs_ineq = [0.0, 0.0, 0.0, 0.0, 0.0, 0.0, 0.0, 0.0, 0.0, 0.0, 0.0, 1/12, 0.0, 0.0, 0.0, 0.0]\n",
    "            \n",
    "bnd = [(0, float(\"inf\")), (0, float(\"inf\")), (0, float(\"inf\")), (0, float(\"inf\"))] \n",
    "            \n",
    "opt = linprog(c=obj, A_ub=lhs_ineq, b_ub=rhs_ineq, bounds=bnd, method=\"revised simplex\")"
   ]
  },
  {
   "cell_type": "code",
   "execution_count": 7,
   "metadata": {},
   "outputs": [
    {
     "data": {
      "text/plain": [
       "     con: array([], dtype=float64)\n",
       "     fun: -0.000578703703703704\n",
       " message: 'Optimization terminated successfully.'\n",
       "     nit: 11\n",
       "   slack: array([ 1.44675926e-04, -5.42101086e-19,  9.64506173e-05,  8.68055556e-04,\n",
       "        8.35905350e-04, -4.33680869e-19,  5.78703704e-04,  3.61689815e-04,\n",
       "        2.41126543e-04,  5.42101086e-19,  4.68750000e-02,  0.00000000e+00,\n",
       "        5.20833333e-03,  3.47222222e-03,  4.34027778e-04,  1.73611111e-03])\n",
       "  status: 0\n",
       " success: True\n",
       "       x: array([0.08333333, 0.03645833, 0.03819444, 0.0005787 ])"
      ]
     },
     "execution_count": 7,
     "metadata": {},
     "output_type": "execute_result"
    }
   ],
   "source": [
    "opt"
   ]
  },
  {
   "cell_type": "markdown",
   "metadata": {},
   "source": [
    "## Max Entropy Method for k = 2. "
   ]
  },
  {
   "cell_type": "markdown",
   "metadata": {},
   "source": [
    "### Uniform p approach"
   ]
  },
  {
   "cell_type": "code",
   "execution_count": 8,
   "metadata": {},
   "outputs": [
    {
     "name": "stdout",
     "output_type": "stream",
     "text": [
      "[[-0.02777778  0.          0.          1.        ]\n",
      " [-0.01984127  0.          0.          1.        ]\n",
      " [-0.04761905  0.          0.02777778  1.        ]\n",
      " [-0.04761905  0.01388889  0.          1.        ]\n",
      " [ 0.01851852  0.         -0.05555556  1.        ]\n",
      " [ 0.          0.         -0.03703704  1.        ]\n",
      " [ 0.          0.01851852 -0.05555556  1.        ]\n",
      " [ 0.         -0.5         1.          0.        ]\n",
      " [ 1.         -0.5         0.          0.        ]\n",
      " [ 0.         -0.01388889  0.          1.        ]\n",
      " [ 0.06944444 -0.04166667  0.          1.        ]\n",
      " [ 0.         -0.04166667  0.06944444  1.        ]\n",
      " [ 0.11111111 -0.05555556  0.          1.        ]]\n"
     ]
    }
   ],
   "source": [
    "c = [0, 0, 0, -1] # tau, beta, gamma, z\n",
    "\n",
    "p_sp = 1/36 #128/6561\n",
    "p = 1/18 #13/144 \n",
    "p_hs = 1/21 #p #4/27\n",
    "\n",
    "\n",
    "## CHARGING DEGREE\n",
    "p_internal, p_external = min(p, p_hs), max(p, p_hs) # NOTE! in non-uniform, we can do p >= 1/9. \n",
    "HALLS_CONSTANT = 1/2\n",
    "P_CUT_ODD_DEGREE = 1\n",
    "P_CUT_ODD_CYCLE = 1/2\n",
    "\n",
    "special_edge = ([-1 * p_sp, 0, 0, 1], 0) # Special edge \n",
    "degree_degree = ([-1 * (p_internal - p_external * HALLS_CONSTANT*P_CUT_ODD_DEGREE), 0, 0, 1], 0) # Degree edge, all external edges are degree\n",
    "degree_k5 = ([-1 * p_internal, 0, p_external * HALLS_CONSTANT*P_CUT_ODD_DEGREE, 1],0) # Degree edge, all external edges are K_5\n",
    "degree_cycle = ([-1 * p_internal, p_external * HALLS_CONSTANT*P_CUT_ODD_CYCLE, 0, 1],0) # Degree edge, all external edges are cycle\n",
    "\n",
    "\n",
    "\n",
    "## CHARGING K5\n",
    "p_internal, p_external = p, max(p, p_hs)  # NOTE! in non-uniform, we can do p_internal >= 1/9. \n",
    "HALLS_CONSTANT = 2/3\n",
    "P_CUT_ODD_K5 = 1/2\n",
    "\n",
    "k5_degree = ([p_external*HALLS_CONSTANT*P_CUT_ODD_K5, 0, -1 * p_internal, 1], 0)\n",
    "k5_k5 = ([0, 0, -1 * p_internal + p_external*HALLS_CONSTANT*P_CUT_ODD_K5, 1], 0)\n",
    "k5_cycle = ([0, p_external*HALLS_CONSTANT*P_CUT_ODD_CYCLE, -1 * p_internal, 1], 0)\n",
    "\n",
    "\n",
    "\n",
    "## CHARGING CYCLE\n",
    "gamma_le_betaover2 = ([0, -1/2, 1, 0], 0)\n",
    "tau_le_betaover2 = ([1, -1/2, 0, 0], 0)\n",
    "\n",
    "cycle_i = ([0, -1 * p * 1/4, 0, 1],0) # Constraint from case 7.1.2 (i)\n",
    "cycle_ii = ([p * 5/4, -1 * p * 3/4, 0 , 1],0) # Constraint from case 7.1.2 (ii)\n",
    "cycle_iii = ([0, -1 * p * 3/4, p * 5/4 , 1],0) # Constraint from case 7.1.2 (iii)\n",
    "cycle_iv = ([2 * p, -1 * p, 0, 1],0) # Constraint from case 7.1.2 (iv)\n",
    "\n",
    "### \n",
    "\n",
    "constraints = [special_edge, degree_degree, degree_k5, degree_cycle, k5_degree, k5_k5, k5_cycle, gamma_le_betaover2, tau_le_betaover2, \n",
    "              cycle_i, cycle_ii, cycle_iii, cycle_iv]\n",
    "\n",
    "\n",
    "lhs_ineq_1 = np.array([cons[0] for cons in constraints])\n",
    "rhs_ineq_1 = np.array([cons[1] for cons in constraints])\n",
    "\n",
    "print(lhs_ineq_1)\n",
    "\n",
    "bnd = [(0, float(\"inf\")) for variable in c] \n",
    "\n",
    "opt_1 = linprog(c=c, A_ub=lhs_ineq_1, b_ub=rhs_ineq_1, A_eq=[[0, 1, 0, 0]], b_eq=[1/12], bounds=bnd, method=\"revised simplex\")"
   ]
  },
  {
   "cell_type": "code",
   "execution_count": 9,
   "metadata": {},
   "outputs": [
    {
     "data": {
      "text/plain": [
       "     con: array([0.])\n",
       "     fun: -0.0005787037037037039\n",
       " message: 'Optimization terminated successfully.'\n",
       "     nit: 4\n",
       "   slack: array([ 4.34027778e-04,  1.44675926e-04,  9.64506173e-05,  0.00000000e+00,\n",
       "        8.68055556e-04,  8.35905350e-04, -2.16840434e-19,  3.47222222e-03,\n",
       "        5.20833333e-03,  5.78703704e-04,  3.61689815e-04,  2.41126543e-04,\n",
       "       -2.16840434e-19])\n",
       "  status: 0\n",
       " success: True\n",
       "       x: array([0.03645833, 0.08333333, 0.03819444, 0.0005787 ])"
      ]
     },
     "execution_count": 9,
     "metadata": {},
     "output_type": "execute_result"
    }
   ],
   "source": [
    "opt_1"
   ]
  },
  {
   "cell_type": "markdown",
   "metadata": {},
   "source": [
    "### Choose a sampler with probability lambda"
   ]
  },
  {
   "cell_type": "code",
   "execution_count": 34,
   "metadata": {},
   "outputs": [
    {
     "name": "stdout",
     "output_type": "stream",
     "text": [
      "0.0008639831961591429\n"
     ]
    }
   ],
   "source": [
    "c = [0, 0, 0, -1] # tau, beta, gamma, z\n",
    "\n",
    "lam = 0\n",
    "values = []\n",
    "while lam <= 1:\n",
    "    p_sp = lam * 1/36 + (1 -lam) * 128/6561\n",
    "    p = lam * 1/18 + (1 - lam) * 13/144 \n",
    "    p_hs = min(lam * 1/21 + (1 - lam) * 4/27, p)\n",
    "\n",
    "\n",
    "    ## CHARGING DEGREE\n",
    "    p_internal, p_external = min(p, p_hs), max(p, p_hs) # NOTE! in non-uniform, we can do p >= 1/9. \n",
    "    HALLS_CONSTANT = 1/2\n",
    "    P_CUT_ODD_DEGREE = 1\n",
    "    P_CUT_ODD_CYCLE = 1/2\n",
    "\n",
    "    special_edge = ([-1 * p_sp, 0, 0, 1], 0) # Special edge \n",
    "    degree_degree = ([-1 * (p_internal - p_external * HALLS_CONSTANT*P_CUT_ODD_DEGREE), 0, 0, 1], 0) # Degree edge, all external edges are degree\n",
    "    degree_k5 = ([-1 * p_internal, 0, p_external * HALLS_CONSTANT*P_CUT_ODD_DEGREE, 1],0) # Degree edge, all external edges are K_5\n",
    "    degree_cycle = ([-1 * p_internal, p_external * HALLS_CONSTANT*P_CUT_ODD_CYCLE, 0, 1],0) # Degree edge, all external edges are cycle\n",
    "\n",
    "\n",
    "\n",
    "    ## CHARGING K5\n",
    "    p_internal, p_external = p, max(p, p_hs)  # NOTE! in non-uniform, we can do p_internal >= 1/9. \n",
    "    HALLS_CONSTANT = 2/3\n",
    "    P_CUT_ODD_K5 = 1/2\n",
    "\n",
    "    k5_degree = ([p_external*HALLS_CONSTANT*P_CUT_ODD_K5, 0, -1 * p_internal, 1], 0)\n",
    "    k5_k5 = ([0, 0, -1 * p_internal + p_external*HALLS_CONSTANT*P_CUT_ODD_K5, 1], 0)\n",
    "    k5_cycle = ([0, p_external*HALLS_CONSTANT*P_CUT_ODD_CYCLE, -1 * p_internal, 1], 0)\n",
    "\n",
    "\n",
    "\n",
    "    ## CHARGING CYCLE\n",
    "    gamma_le_betaover2 = ([0, -1/2, 1, 0], 0)\n",
    "    tau_le_betaover2 = ([1, -1/2, 0, 0], 0)\n",
    "\n",
    "    cycle_i = ([0, -1 * p * 1/4, 0, 1],0) # Constraint from case 7.1.2 (i)\n",
    "    cycle_ii = ([p * 5/4, -1 * p * 3/4, 0 , 1],0) # Constraint from case 7.1.2 (ii)\n",
    "    cycle_iii = ([0, -1 * p * 3/4, p * 5/4 , 1],0) # Constraint from case 7.1.2 (iii)\n",
    "    cycle_iv = ([2 * p, -1 * p, 0, 1],0) # Constraint from case 7.1.2 (iv)\n",
    "\n",
    "    ### \n",
    "\n",
    "    constraints = [special_edge, degree_degree, degree_k5, degree_cycle, k5_degree, k5_k5, k5_cycle, gamma_le_betaover2, tau_le_betaover2, \n",
    "                  cycle_i, cycle_ii, cycle_iii, cycle_iv]\n",
    "\n",
    "\n",
    "    lhs_ineq_1 = np.array([cons[0] for cons in constraints])\n",
    "    rhs_ineq_1 = np.array([cons[1] for cons in constraints])\n",
    "\n",
    "    #print(lhs_ineq_1)\n",
    "\n",
    "    bnd = [(0, float(\"inf\")) for variable in c] \n",
    "\n",
    "    opt_1 = linprog(c=c, A_ub=lhs_ineq_1, b_ub=rhs_ineq_1, A_eq=[[0, 1, 0, 0]], b_eq=[1/12], bounds=bnd, method=\"revised simplex\")\n",
    "    values.append(-1 * opt_1.fun)\n",
    "    lam += 0.0001\n",
    "print(max(values))"
   ]
  },
  {
   "cell_type": "code",
   "execution_count": 32,
   "metadata": {
    "scrolled": true
   },
   "outputs": [
    {
     "data": {
      "text/plain": [
       "-0.00073361619880999"
      ]
     },
     "execution_count": 32,
     "metadata": {},
     "output_type": "execute_result"
    }
   ],
   "source": [
    "opt_1.fun"
   ]
  },
  {
   "cell_type": "markdown",
   "metadata": {},
   "source": [
    "## Heather: Max Entropy Solely"
   ]
  },
  {
   "cell_type": "code",
   "execution_count": 27,
   "metadata": {},
   "outputs": [
    {
     "name": "stdout",
     "output_type": "stream",
     "text": [
      "[[-0.01950922  0.          0.          1.        ]\n",
      " [-0.04513889  0.          0.          1.        ]\n",
      " [-0.09027778  0.          0.04513889  1.        ]\n",
      " [-0.09027778  0.02256944  0.          1.        ]\n",
      " [ 0.03009259  0.         -0.09027778  1.        ]\n",
      " [ 0.          0.         -0.06018519  1.        ]\n",
      " [ 0.          0.03009259 -0.09027778  1.        ]\n",
      " [ 0.         -0.5         1.          0.        ]\n",
      " [ 1.         -0.5         0.          0.        ]\n",
      " [ 0.         -0.02256944  0.          1.        ]\n",
      " [ 0.11284722 -0.06770833  0.          1.        ]\n",
      " [ 0.         -0.06770833  0.11284722  1.        ]\n",
      " [ 0.         -0.04513889  0.          1.        ]\n",
      " [ 0.18055556 -0.09027778  0.          1.        ]]\n"
     ]
    }
   ],
   "source": [
    "c = [0, 0, 0, -1] # tau, beta, gamma, z\n",
    "\n",
    "p_sp = 128/6561\n",
    "p = 13/144 \n",
    "\n",
    "\n",
    "\n",
    "\n",
    "## CHARGING DEGREE\n",
    "#p_internal, p_external = min(p, p_hs), max(p, p_hs) # NOTE! in non-uniform, we can do p >= 1/9. \n",
    "HALLS_CONSTANT = 1/2\n",
    "P_CUT_ODD_DEGREE = 1\n",
    "P_CUT_ODD_CYCLE = 1/2\n",
    "\n",
    "special_edge = ([-1 * p_sp, 0, 0, 1], 0) # Special edge \n",
    "degree_degree = ([-1 * (p - p * HALLS_CONSTANT*P_CUT_ODD_DEGREE), 0, 0, 1], 0) # Degree edge, all external edges are degree\n",
    "degree_k5 = ([-1 * p, 0, p * HALLS_CONSTANT*P_CUT_ODD_DEGREE, 1],0) # Degree edge, all external edges are K_5\n",
    "degree_cycle = ([-1 * p, p * HALLS_CONSTANT*P_CUT_ODD_CYCLE, 0, 1],0) # Degree edge, all external edges are cycle\n",
    "\n",
    "\n",
    "\n",
    "## CHARGING K5\n",
    "#p_internal, p_external = p, max(p, p_hs)  # NOTE! in non-uniform, we can do p_internal >= 1/9. \n",
    "HALLS_WEAK_CONSTANT = 2/3\n",
    "P_CUT_ODD_K5 = 1/2\n",
    "\n",
    "k5_degree = ([p*HALLS_WEAK_CONSTANT*P_CUT_ODD_K5, 0, -1 * p, 1], 0)\n",
    "k5_k5 = ([0, 0, -1 * p + p*HALLS_WEAK_CONSTANT*P_CUT_ODD_K5, 1], 0)\n",
    "k5_cycle = ([0, p*HALLS_WEAK_CONSTANT*P_CUT_ODD_K5, -1 * p, 1], 0)\n",
    "\n",
    "\n",
    "\n",
    "## CHARGING CYCLE (added in one more case here)\n",
    "gamma_le_betaover2 = ([0, -1/2, 1, 0], 0) #assume cycle edges give worst case (see 7.1.2 (iv))\n",
    "tau_le_betaover2 = ([1, -1/2, 0, 0], 0) #assume cycle edges give worst case (see 7.1.2 (iv))\n",
    "\n",
    "cycle_i = ([0, -1 * p * 1/4, 0, 1],0) # Constraint from case 7.1.2 (i)\n",
    "cycle_ii = ([p * 5/4, -1 * p * 3/4, 0 , 1],0) # Constraint from case 7.1.2 (ii), degree case\n",
    "cycle_ii_2 = ([0, -1 * p * 3/4, p * 5/4 , 1],0) # Constraint from case 7.1.2 (ii), K5 case\n",
    "cycle_iii = ([0, -1 * p * 1/2, 0, 1],0) # Constraint from case 7.1.2 (iii)\n",
    "cycle_iv = ([2 * p, -1 * p, 0, 1],0) # Constraint from case 7.1.2 (iv)\n",
    "\n",
    "### \n",
    "\n",
    "constraints = [special_edge, degree_degree, degree_k5, degree_cycle, k5_degree, k5_k5, k5_cycle, gamma_le_betaover2, tau_le_betaover2, \n",
    "              cycle_i, cycle_ii, cycle_ii_2, cycle_iii, cycle_iv]\n",
    "\n",
    "\n",
    "lhs_ineq_1 = np.array([cons[0] for cons in constraints])\n",
    "rhs_ineq_1 = np.array([cons[1] for cons in constraints])\n",
    "\n",
    "print(lhs_ineq_1)\n",
    "\n",
    "bnd = [(0, float(\"inf\")) for variable in c] \n",
    "\n",
    "opt_1 = linprog(c=c, A_ub=lhs_ineq_1, b_ub=rhs_ineq_1, A_eq=[[0, 1, 0, 0]], b_eq=[1/12], bounds=bnd, method=\"revised simplex\")"
   ]
  },
  {
   "cell_type": "code",
   "execution_count": 28,
   "metadata": {},
   "outputs": [
    {
     "data": {
      "text/plain": [
       "     con: array([0.])\n",
       "     fun: -0.0007336161988099899\n",
       " message: 'Optimization terminated successfully.'\n",
       "     nit: 5\n",
       "   slack: array([ 0.00000000e+00,  9.63766789e-04,  1.04048365e-03,  7.80362739e-04,\n",
       "        1.37612739e-03,  1.42727197e-03, -4.33680869e-19,  5.76267869e-03,\n",
       "        4.06310510e-03,  1.14717084e-03,  6.65287444e-04,  8.57079602e-04,\n",
       "        3.02795788e-03, -3.25260652e-19])\n",
       "  status: 0\n",
       " success: True\n",
       "       x: array([0.03760356, 0.08333333, 0.03590399, 0.00073362])"
      ]
     },
     "execution_count": 28,
     "metadata": {},
     "output_type": "execute_result"
    }
   ],
   "source": [
    "opt_1"
   ]
  },
  {
   "cell_type": "markdown",
   "metadata": {},
   "source": [
    "## Heather: Convex Combo of Max Entropy and Matroid Intersection "
   ]
  },
  {
   "cell_type": "code",
   "execution_count": 33,
   "metadata": {},
   "outputs": [
    {
     "name": "stdout",
     "output_type": "stream",
     "text": [
      "0.0008635287322383441\n"
     ]
    }
   ],
   "source": [
    "c = [0, 0, 0, -1] # tau, beta, gamma, z\n",
    "\n",
    "lam = 0\n",
    "values = []\n",
    "while lam <= 1:\n",
    "\n",
    "    #lam = 1/2 #add in a for loop for this \n",
    "\n",
    "    p_sp_entropy = 128/6561\n",
    "    p_entropy = 13/144 \n",
    "    p_hs_entropy = 13/144\n",
    "\n",
    "    p_sp_matroid = 1/36\n",
    "    p_matroid = 1/18\n",
    "    p_hs_matroid = 1/21 \n",
    "\n",
    "\n",
    "    p_sp = (lam * p_sp_entropy) + ((1-lam) * p_sp_matroid)\n",
    "    p = (lam * p_entropy) + ((1-lam) * p_matroid)\n",
    "    p_hs = (lam * p_hs_entropy) + ((1-lam) * p_hs_matroid)\n",
    "\n",
    "\n",
    "    ## CHARGING DEGREE\n",
    "    #p_internal, p_external = min(p, p_hs), max(p, p_hs) # NOTE! in non-uniform, we can do p >= 1/9. \n",
    "    HALLS_CONSTANT = 1/2\n",
    "    P_CUT_ODD_DEGREE = 1\n",
    "    P_CUT_ODD_CYCLE = 1/2\n",
    "\n",
    "    special_edge = ([-1 * p_sp, 0, 0, 1], 0) # Special edge \n",
    "    degree_degree = ([-1 * (p_hs - p * HALLS_CONSTANT*P_CUT_ODD_DEGREE), 0, 0, 1], 0) # Degree edge, all external edges are degree\n",
    "    degree_k5 = ([-1 * p_hs, 0, p * HALLS_CONSTANT*P_CUT_ODD_DEGREE, 1],0) # Degree edge, all external edges are K_5\n",
    "    degree_cycle = ([-1 * p_hs, p * HALLS_CONSTANT*P_CUT_ODD_CYCLE, 0, 1],0) # Degree edge, all external edges are cycle\n",
    "\n",
    "\n",
    "\n",
    "    ## CHARGING K5\n",
    "    #p_internal, p_external = p, max(p, p_hs)  # NOTE! in non-uniform, we can do p_internal >= 1/9. \n",
    "    HALLS_WEAK_CONSTANT = 2/3\n",
    "    P_CUT_ODD_K5 = 1/2\n",
    "\n",
    "    k5_degree = ([p*HALLS_WEAK_CONSTANT*P_CUT_ODD_K5, 0, -1 * p, 1], 0)\n",
    "    k5_k5 = ([0, 0, -1 * p + p*HALLS_WEAK_CONSTANT*P_CUT_ODD_K5, 1], 0)\n",
    "    k5_cycle = ([0, p*HALLS_WEAK_CONSTANT*P_CUT_ODD_K5, -1 * p, 1], 0)\n",
    "\n",
    "\n",
    "\n",
    "    ## CHARGING CYCLE (added in one more case here)\n",
    "    gamma_le_betaover2 = ([0, -1/2, 1, 0], 0) #assume cycle edges give worst case (see 7.1.2 (iv))\n",
    "    tau_le_betaover2 = ([1, -1/2, 0, 0], 0) #assume cycle edges give worst case (see 7.1.2 (iv))\n",
    "\n",
    "    cycle_i = ([0, -1 * p * 1/4, 0, 1],0) # Constraint from case 7.1.2 (i)\n",
    "    cycle_ii = ([p * 5/4, -1 * p * 3/4, 0 , 1],0) # Constraint from case 7.1.2 (ii), degree case\n",
    "    cycle_ii_2 = ([0, -1 * p * 3/4, p * 5/4 , 1],0) # Constraint from case 7.1.2 (ii), K5 case\n",
    "    cycle_iii = ([0, -1 * p * 1/2, 0, 1],0) # Constraint from case 7.1.2 (iii)\n",
    "    cycle_iv = ([2 * p, -1 * p, 0, 1],0) # Constraint from case 7.1.2 (iv)\n",
    "\n",
    "    ### \n",
    "\n",
    "    constraints = [special_edge, degree_degree, degree_k5, degree_cycle, k5_degree, k5_k5, k5_cycle, gamma_le_betaover2, tau_le_betaover2, \n",
    "                  cycle_i, cycle_ii, cycle_ii_2, cycle_iii, cycle_iv]\n",
    "\n",
    "\n",
    "    lhs_ineq_1 = np.array([cons[0] for cons in constraints])\n",
    "    rhs_ineq_1 = np.array([cons[1] for cons in constraints])\n",
    "\n",
    "    #print(lhs_ineq_1)\n",
    "\n",
    "    bnd = [(0, float(\"inf\")) for variable in c] \n",
    "\n",
    "    opt_1 = linprog(c=c, A_ub=lhs_ineq_1, b_ub=rhs_ineq_1, A_eq=[[0, 1, 0, 0]], b_eq=[1/12], bounds=bnd, method=\"revised simplex\")\n",
    "    \n",
    "    values.append(-1 * opt_1.fun)\n",
    "    lam += 0.001\n",
    "print(max(values))"
   ]
  },
  {
   "cell_type": "code",
   "execution_count": null,
   "metadata": {},
   "outputs": [],
   "source": []
  },
  {
   "cell_type": "code",
   "execution_count": null,
   "metadata": {},
   "outputs": [],
   "source": []
  }
 ],
 "metadata": {
  "kernelspec": {
   "display_name": "Python 3",
   "language": "python",
   "name": "python3"
  },
  "language_info": {
   "codemirror_mode": {
    "name": "ipython",
    "version": 3
   },
   "file_extension": ".py",
   "mimetype": "text/x-python",
   "name": "python",
   "nbconvert_exporter": "python",
   "pygments_lexer": "ipython3",
   "version": "3.7.3"
  }
 },
 "nbformat": 4,
 "nbformat_minor": 2
}
